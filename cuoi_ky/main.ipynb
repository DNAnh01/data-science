{
 "cells": [
  {
   "cell_type": "markdown",
   "metadata": {},
   "source": [
    "# DỰ ĐOÁN GIÁ XE"
   ]
  },
  {
   "cell_type": "markdown",
   "metadata": {},
   "source": [
    "# Import library"
   ]
  },
  {
   "cell_type": "markdown",
   "metadata": {},
   "source": [
    "link website: https://bonbanh.com/"
   ]
  },
  {
   "cell_type": "code",
   "execution_count": 152,
   "metadata": {},
   "outputs": [],
   "source": [
    "import requests\n",
    "from bs4 import BeautifulSoup\n",
    "import matplotlib.pyplot as plt\n",
    "import seaborn as sns\n",
    "import pandas as pd\n",
    "import numpy as np\n",
    "\n",
    "import warnings\n",
    "warnings.simplefilter(action='ignore', category=FutureWarning)\n"
   ]
  },
  {
   "cell_type": "markdown",
   "metadata": {},
   "source": [
    "# Crawling data from website "
   ]
  },
  {
   "cell_type": "code",
   "execution_count": 153,
   "metadata": {},
   "outputs": [],
   "source": [
    "# chỗ này nhớ bật mạng lên !\n",
    "link_base = \"https://bonbanh.com/oto/page,\"\n",
    "list_link = []\n",
    "\n",
    "with open(\"craw_data.csv\", \"w\", encoding='utf_8') as file:\n",
    "    file.write(\"Id,Year,New Or Old,Name,Address,Production Origin,Color,Fuel,Car Gearbox,Used (kilomet),Price\\n\")\n",
    "    for index in range(1,500):\n",
    "        item = link_base + str(index)\n",
    "        list_link.append(item)\n",
    "\n",
    "    # kiểm tra xem bạn có phải là robot không\n",
    "    headers = {'User-Agent': 'Mozilla/5.0 (Macintosh; Intel Mac OS X 10_10_1) AppleWebKit/537.36 (KHTML, like Gecko) Chrome/39.0.2171.95 Safari/537.36'}\n",
    "    data = []\n",
    "    for i in range(len(list_link)):\n",
    "\n",
    "        link = list_link[i]\n",
    "        # sau khi đã có link thì mình sẽ requests về cái trang web đó   \n",
    "        response = requests.get(link, headers=headers) \n",
    "        soup = BeautifulSoup(response.text, 'html.parser')       \n",
    "        data = soup.find('div', attrs={'class':'g-box-content'}).find_all('a', attrs={'itemprop':'url'})\n",
    "        #lấy thông tin \n",
    "        for j in range(1,20):\n",
    "            try:\n",
    "                new_or_old = data[j].find_all('div')[0].text[:-5]\n",
    "\n",
    "                year = data[j].find_all('div')[0].text[-5:] \n",
    "            \n",
    "                name = data[j].find_all('div')[1].text[:-6]\n",
    "\n",
    "                price = data[j].find_all('div')[2].text\n",
    "\n",
    "                address = data[j].find_all('div')[3].text\n",
    "\n",
    "                id = data[j].find_all('div')[4].text[6:]\n",
    "\n",
    "                production_origin = data[j].find_all('div')[5].text.split('...')[0][2:].split(', ')[0]\n",
    "\n",
    "                color = data[j].find_all('div')[5].text.split('...')[0][2:].split(', ')[1]\n",
    "\n",
    "                fuel = data[j].find_all('div')[5].text.split('...')[0][2:].split(', ')[2]\n",
    "\n",
    "                car_gearbox = data[j].find_all('div')[5].text.split('...')[0][2:].split(', ')[3]\n",
    "\n",
    "                if(data[j].find_all('div')[0].text[:-5].strip() == 'Xe cũ'):\n",
    "\n",
    "                    used = data[j].find_all('div')[5].text.split('...')[0][2:].split(', ')[4].replace(',','').split(' ')[2]\n",
    "                else:\n",
    "                    used = \"0\"\n",
    "            except:\n",
    "                break\n",
    "            srt1 = f\"{str(id.strip())},{str(year.strip())},{str(new_or_old.strip())},\\\"{str(name.strip())}\\\",{str(address.strip())},{str(production_origin.strip())},{str(color.strip())},\\\"{str(fuel.strip())}\\\",{str(car_gearbox.strip())},{str(used.strip())},{str(price.strip())}\\n\"\n",
    "            file.write(srt1)\n",
    "file.close()\n",
    "\n"
   ]
  },
  {
   "cell_type": "markdown",
   "metadata": {},
   "source": [
    "# Read file"
   ]
  },
  {
   "cell_type": "code",
   "execution_count": 154,
   "metadata": {},
   "outputs": [
    {
     "data": {
      "text/html": [
       "<div>\n",
       "<style scoped>\n",
       "    .dataframe tbody tr th:only-of-type {\n",
       "        vertical-align: middle;\n",
       "    }\n",
       "\n",
       "    .dataframe tbody tr th {\n",
       "        vertical-align: top;\n",
       "    }\n",
       "\n",
       "    .dataframe thead th {\n",
       "        text-align: right;\n",
       "    }\n",
       "</style>\n",
       "<table border=\"1\" class=\"dataframe\">\n",
       "  <thead>\n",
       "    <tr style=\"text-align: right;\">\n",
       "      <th></th>\n",
       "      <th>Id</th>\n",
       "      <th>Year</th>\n",
       "      <th>New Or Old</th>\n",
       "      <th>Name</th>\n",
       "      <th>Address</th>\n",
       "      <th>Production Origin</th>\n",
       "      <th>Color</th>\n",
       "      <th>Fuel</th>\n",
       "      <th>Car Gearbox</th>\n",
       "      <th>Used (kilomet)</th>\n",
       "      <th>Price</th>\n",
       "    </tr>\n",
       "  </thead>\n",
       "  <tbody>\n",
       "    <tr>\n",
       "      <th>0</th>\n",
       "      <td>4553462</td>\n",
       "      <td>2015</td>\n",
       "      <td>Xe cũ</td>\n",
       "      <td>Mazda 6 2.5 AT</td>\n",
       "      <td>Hà Nội</td>\n",
       "      <td>Xe lắp ráp trong nước</td>\n",
       "      <td>màu đỏ</td>\n",
       "      <td>máy xăng 2.5 L</td>\n",
       "      <td>số tự động</td>\n",
       "      <td>60000</td>\n",
       "      <td>520 Triệu</td>\n",
       "    </tr>\n",
       "    <tr>\n",
       "      <th>1</th>\n",
       "      <td>4789838</td>\n",
       "      <td>2019</td>\n",
       "      <td>Xe cũ</td>\n",
       "      <td>Mercedes Benz S class S450L</td>\n",
       "      <td>TP HCM</td>\n",
       "      <td>Xe lắp ráp trong nước</td>\n",
       "      <td>màu đỏ</td>\n",
       "      <td>máy xăng 3.0 L</td>\n",
       "      <td>số tự động</td>\n",
       "      <td>15000</td>\n",
       "      <td>3 Tỷ 299 Triệu</td>\n",
       "    </tr>\n",
       "    <tr>\n",
       "      <th>2</th>\n",
       "      <td>4729199</td>\n",
       "      <td>2022</td>\n",
       "      <td>Xe mới</td>\n",
       "      <td>VinFast VF8 Plus</td>\n",
       "      <td>TP HCM</td>\n",
       "      <td>Xe lắp ráp trong nước</td>\n",
       "      <td>màu cam</td>\n",
       "      <td>xe điện</td>\n",
       "      <td>số tự động</td>\n",
       "      <td>0</td>\n",
       "      <td>887 Triệu</td>\n",
       "    </tr>\n",
       "    <tr>\n",
       "      <th>3</th>\n",
       "      <td>4838739</td>\n",
       "      <td>2018</td>\n",
       "      <td>Xe cũ</td>\n",
       "      <td>Honda City 1.5TOP</td>\n",
       "      <td>Đồng Tháp</td>\n",
       "      <td>Xe lắp ráp trong nước</td>\n",
       "      <td>màu trắng</td>\n",
       "      <td>máy xăng 1.5 L</td>\n",
       "      <td>số tự động</td>\n",
       "      <td>73000</td>\n",
       "      <td>418 Triệu</td>\n",
       "    </tr>\n",
       "    <tr>\n",
       "      <th>4</th>\n",
       "      <td>4814200</td>\n",
       "      <td>2006</td>\n",
       "      <td>Xe cũ</td>\n",
       "      <td>Ford Everest 2.5L 4x2 MT</td>\n",
       "      <td>Đồng Tháp</td>\n",
       "      <td>Xe lắp ráp trong nước</td>\n",
       "      <td>màu bạc</td>\n",
       "      <td>máy dầu 2.5 L</td>\n",
       "      <td>số tay</td>\n",
       "      <td>138000</td>\n",
       "      <td>198 Triệu</td>\n",
       "    </tr>\n",
       "  </tbody>\n",
       "</table>\n",
       "</div>"
      ],
      "text/plain": [
       "        Id  Year New Or Old                         Name    Address  \\\n",
       "0  4553462  2015      Xe cũ               Mazda 6 2.5 AT     Hà Nội   \n",
       "1  4789838  2019      Xe cũ  Mercedes Benz S class S450L     TP HCM   \n",
       "2  4729199  2022     Xe mới             VinFast VF8 Plus     TP HCM   \n",
       "3  4838739  2018      Xe cũ            Honda City 1.5TOP  Đồng Tháp   \n",
       "4  4814200  2006      Xe cũ     Ford Everest 2.5L 4x2 MT  Đồng Tháp   \n",
       "\n",
       "       Production Origin      Color            Fuel Car Gearbox  \\\n",
       "0  Xe lắp ráp trong nước     màu đỏ  máy xăng 2.5 L  số tự động   \n",
       "1  Xe lắp ráp trong nước     màu đỏ  máy xăng 3.0 L  số tự động   \n",
       "2  Xe lắp ráp trong nước    màu cam         xe điện  số tự động   \n",
       "3  Xe lắp ráp trong nước  màu trắng  máy xăng 1.5 L  số tự động   \n",
       "4  Xe lắp ráp trong nước    màu bạc   máy dầu 2.5 L      số tay   \n",
       "\n",
       "   Used (kilomet)           Price  \n",
       "0           60000       520 Triệu  \n",
       "1           15000  3 Tỷ 299 Triệu  \n",
       "2               0       887 Triệu  \n",
       "3           73000       418 Triệu  \n",
       "4          138000       198 Triệu  "
      ]
     },
     "execution_count": 154,
     "metadata": {},
     "output_type": "execute_result"
    }
   ],
   "source": [
    "\n",
    "\n",
    "df = pd.read_csv('craw_data.csv',sep=',', engine='python',encoding='utf_8')\n",
    "df.head()\n"
   ]
  },
  {
   "cell_type": "code",
   "execution_count": 155,
   "metadata": {},
   "outputs": [
    {
     "name": "stdout",
     "output_type": "stream",
     "text": [
      "<class 'pandas.core.frame.DataFrame'>\n",
      "RangeIndex: 4279 entries, 0 to 4278\n",
      "Data columns (total 11 columns):\n",
      " #   Column             Non-Null Count  Dtype \n",
      "---  ------             --------------  ----- \n",
      " 0   Id                 4279 non-null   int64 \n",
      " 1   Year               4279 non-null   int64 \n",
      " 2   New Or Old         4279 non-null   object\n",
      " 3   Name               4279 non-null   object\n",
      " 4   Address            4279 non-null   object\n",
      " 5   Production Origin  4279 non-null   object\n",
      " 6   Color              4279 non-null   object\n",
      " 7   Fuel               4279 non-null   object\n",
      " 8   Car Gearbox        4279 non-null   object\n",
      " 9   Used (kilomet)     4279 non-null   int64 \n",
      " 10  Price              4279 non-null   object\n",
      "dtypes: int64(3), object(8)\n",
      "memory usage: 367.9+ KB\n"
     ]
    }
   ],
   "source": [
    "df.info()\n"
   ]
  },
  {
   "cell_type": "code",
   "execution_count": 156,
   "metadata": {},
   "outputs": [
    {
     "data": {
      "text/html": [
       "<div>\n",
       "<style scoped>\n",
       "    .dataframe tbody tr th:only-of-type {\n",
       "        vertical-align: middle;\n",
       "    }\n",
       "\n",
       "    .dataframe tbody tr th {\n",
       "        vertical-align: top;\n",
       "    }\n",
       "\n",
       "    .dataframe thead th {\n",
       "        text-align: right;\n",
       "    }\n",
       "</style>\n",
       "<table border=\"1\" class=\"dataframe\">\n",
       "  <thead>\n",
       "    <tr style=\"text-align: right;\">\n",
       "      <th></th>\n",
       "      <th>Id</th>\n",
       "      <th>Year</th>\n",
       "      <th>Used (kilomet)</th>\n",
       "    </tr>\n",
       "  </thead>\n",
       "  <tbody>\n",
       "    <tr>\n",
       "      <th>count</th>\n",
       "      <td>4.279000e+03</td>\n",
       "      <td>4279.000000</td>\n",
       "      <td>4.279000e+03</td>\n",
       "    </tr>\n",
       "    <tr>\n",
       "      <th>mean</th>\n",
       "      <td>4.634185e+06</td>\n",
       "      <td>2019.004440</td>\n",
       "      <td>5.054223e+04</td>\n",
       "    </tr>\n",
       "    <tr>\n",
       "      <th>std</th>\n",
       "      <td>3.828227e+05</td>\n",
       "      <td>4.104266</td>\n",
       "      <td>8.163900e+05</td>\n",
       "    </tr>\n",
       "    <tr>\n",
       "      <th>min</th>\n",
       "      <td>2.366600e+04</td>\n",
       "      <td>1990.000000</td>\n",
       "      <td>0.000000e+00</td>\n",
       "    </tr>\n",
       "    <tr>\n",
       "      <th>25%</th>\n",
       "      <td>4.615988e+06</td>\n",
       "      <td>2017.000000</td>\n",
       "      <td>0.000000e+00</td>\n",
       "    </tr>\n",
       "    <tr>\n",
       "      <th>50%</th>\n",
       "      <td>4.757112e+06</td>\n",
       "      <td>2020.000000</td>\n",
       "      <td>2.000000e+04</td>\n",
       "    </tr>\n",
       "    <tr>\n",
       "      <th>75%</th>\n",
       "      <td>4.822248e+06</td>\n",
       "      <td>2022.000000</td>\n",
       "      <td>5.500000e+04</td>\n",
       "    </tr>\n",
       "    <tr>\n",
       "      <th>max</th>\n",
       "      <td>4.840475e+06</td>\n",
       "      <td>2023.000000</td>\n",
       "      <td>5.000000e+07</td>\n",
       "    </tr>\n",
       "  </tbody>\n",
       "</table>\n",
       "</div>"
      ],
      "text/plain": [
       "                 Id         Year  Used (kilomet)\n",
       "count  4.279000e+03  4279.000000    4.279000e+03\n",
       "mean   4.634185e+06  2019.004440    5.054223e+04\n",
       "std    3.828227e+05     4.104266    8.163900e+05\n",
       "min    2.366600e+04  1990.000000    0.000000e+00\n",
       "25%    4.615988e+06  2017.000000    0.000000e+00\n",
       "50%    4.757112e+06  2020.000000    2.000000e+04\n",
       "75%    4.822248e+06  2022.000000    5.500000e+04\n",
       "max    4.840475e+06  2023.000000    5.000000e+07"
      ]
     },
     "execution_count": 156,
     "metadata": {},
     "output_type": "execute_result"
    }
   ],
   "source": [
    "df.describe()"
   ]
  },
  {
   "cell_type": "markdown",
   "metadata": {},
   "source": [
    "# DATA PROCESSING"
   ]
  },
  {
   "cell_type": "markdown",
   "metadata": {},
   "source": [
    "# Làm sạch dữ liệu (Data cleaning)"
   ]
  },
  {
   "cell_type": "code",
   "execution_count": 157,
   "metadata": {},
   "outputs": [
    {
     "name": "stdout",
     "output_type": "stream",
     "text": [
      "{'máy xăng 5.0 L', 'máy xăng 6.7 L', 'máy dầu 3.0 L', 'máy xăng 2.0 L', 'máy xăng 6.0 L', 'máy dầu 3.9 L', 'máy xăng 3.0 L', 'máy xăng 2.4 L', 'máy dầu 1.9 L', 'máy xăng 5.6 L', 'máy xăng 1.8 L', 'xe hybrid 3.5 L', 'máy xăng 3.4 L', 'máy xăng 6.2 L', 'máy xăng 6.5 L', 'máy xăng 4.6 L', 'máy dầu 2.1 L', 'máy dầu 12.3 L', 'máy xăng 5.2 L', 'máy xăng 1.4 L', 'máy dầu 3.2 L', 'máy xăng 3.6 L', 'máy xăng 1.0 L', 'máy xăng 4.5 L', 'máy xăng 2.6 L', 'xe hybrid 1.8 L', 'xe hybrid 1.2 L', 'máy xăng 6.6 L', 'xe hybrid 2.5 L', 'máy dầu 2.8 L', 'máy dầu 1.7 L', 'máy xăng 5.4 L', 'máy dầu 2.0 L', 'máy xăng 2.9 L', 'xe hybrid 1.5 L', 'máy dầu 2.3 L', 'máy xăng 6.8 L', 'máy xăng 2.7 L', 'máy xăng 2.3 L', 'máy xăng 4.8 L', 'máy xăng 1.6 L', 'máy xăng 1.25 L', 'máy xăng 5.7 L', 'máy xăng 3.8 L', 'máy xăng 1.3 L', 'máy dầu 2.2 L', 'máy xăng 4.7 L', 'xe hybrid 2.0 L', 'máy xăng 1.2 L', 'xe hybrid', 'máy dầu 2.5 L', 'máy xăng 3.7 L', 'máy xăng 1.1 L', 'máy xăng 2.5 L', 'xe điện', 'xe hybrid 5.0 L', 'máy xăng 3.3 L', 'máy xăng 3.5 L', 'máy xăng 1.5 L', 'máy xăng 3.9 L', 'máy xăng 0.8 L', 'máy xăng 4.4 L', 'xe hybrid 4.4 L', 'máy xăng', 'máy xăng 4.2 L', 'máy xăng 3.2 L', 'máy dầu 2.4 L', 'máy dầu', 'máy xăng 4.0 L'}\n"
     ]
    }
   ],
   "source": [
    "print(set(df['Fuel']))"
   ]
  },
  {
   "cell_type": "markdown",
   "metadata": {},
   "source": [
    "Kiểm tra len(df['Fuel'][i].split(' ')[:])"
   ]
  },
  {
   "cell_type": "code",
   "execution_count": 158,
   "metadata": {},
   "outputs": [
    {
     "name": "stdout",
     "output_type": "stream",
     "text": [
      "{2, 4}\n"
     ]
    }
   ],
   "source": [
    "list_check = []\n",
    "for i in range (df.shape[0]):\n",
    "    list_check.append((len(df['Fuel'][i].split(' ')[:])))\n",
    "\n",
    "print(set(list_check))"
   ]
  },
  {
   "cell_type": "markdown",
   "metadata": {},
   "source": [
    "Có nhiều dữ liệu khác nhau có thể được mở rộng từ các cột hiện tại, nên ta sẽ mở rộng chúng"
   ]
  },
  {
   "cell_type": "code",
   "execution_count": 159,
   "metadata": {},
   "outputs": [],
   "source": [
    "for i in range(df.shape[0]):\n",
    "    #tách company từ cột Name\n",
    "    df.at[i, 'Company'] = df['Name'][i].split(' ')[0]\n",
    "\n",
    "    #tách Fuel Type và Machine Capacity (L)\n",
    "    df.at[i, 'Fuel Type'] = df['Fuel'][i].split(' ')[0] + ' ' + df['Fuel'][i].split(' ')[1]\n",
    "    if(len(df['Fuel'][i].split(' ')[:]) == 4):\n",
    "        df.at[i, 'Machine Capacity (L)'] = df['Fuel'][i].split(' ')[2]\n",
    "    elif(len(df['Fuel'][i].split(' ')[:]) == 2):\n",
    "        df.at[i, 'Machine Capacity (L)'] = None\n",
    "    \n"
   ]
  },
  {
   "cell_type": "code",
   "execution_count": 160,
   "metadata": {},
   "outputs": [],
   "source": [
    "# convert\n",
    "df['Machine Capacity (L)'] = df['Machine Capacity (L)'].astype(float)"
   ]
  },
  {
   "cell_type": "code",
   "execution_count": 161,
   "metadata": {},
   "outputs": [
    {
     "name": "stdout",
     "output_type": "stream",
     "text": [
      "{1.5, 2.5, 3.0, 2.2, 2.0, 3.3, 2.7, 5.6, 3.2, 4.0, 1.0, 1.25, 4.5, 5.0, 6.0, 3.5, 12.3, 6.5, nan, nan, nan, nan, nan, nan, nan, nan, nan, nan, nan, nan, nan, nan, nan, nan, nan, nan, nan, nan, 4.6, 6.6, 0.8, 1.8, 1.3, 3.7, 4.7, 4.2, 5.7, 5.2, 6.2, 6.7, 1.4, 1.6, 2.4, 1.9, 2.9, 3.4, 3.9, 1.1, 2.6, 2.1, 3.6, nan, nan, nan, nan, nan, nan, nan, nan, nan, 2.3, 2.8, 3.8, nan, 4.8, 6.8, nan, nan, nan, nan, nan, nan, nan, nan, nan, nan, nan, nan, nan, nan, nan, nan, nan, nan, nan, nan, nan, nan, nan, nan, nan, nan, nan, nan, nan, nan, nan, nan, nan, nan, nan, nan, nan, nan, nan, nan, nan, nan, nan, nan, nan, nan, nan, nan, nan, nan, nan, nan, nan, nan, nan, nan, nan, nan, nan, 1.2, 1.7, nan, nan, nan, nan, nan, nan, nan, nan, nan, nan, nan, nan, nan, nan, nan, nan, nan, nan, nan, nan, nan, nan, nan, nan, nan, nan, nan, nan, nan, nan, nan, nan, nan, nan, nan, nan, nan, nan, nan, nan, nan, nan, nan, nan, nan, nan, nan, nan, nan, nan, nan, nan, nan, nan, nan, nan, nan, nan, nan, nan, nan, nan, nan, nan, nan, nan, nan, nan, 4.4, nan, nan, nan, 5.4, nan, nan, nan, nan, nan, nan, nan, nan, nan, nan, nan, nan, nan, nan, nan, nan, nan, nan, nan, nan, nan, nan, nan, nan, nan, nan, nan, nan, nan, nan, nan, nan, nan, nan, nan, nan, nan, nan, nan, nan, nan, nan, nan, nan, nan, nan, nan, nan, nan, nan, nan, nan, nan, nan, nan, nan, nan, nan, nan, nan, nan, nan, nan, nan, nan, nan, nan, nan, nan, nan, nan, nan, nan, nan, nan, nan, nan, nan, nan, nan, nan, nan, nan, nan, nan, nan, nan, nan, nan, nan, nan, nan, nan, nan, nan, nan, nan, nan, nan, nan, nan, nan, nan, nan, nan, nan, nan, nan, nan, nan, nan, nan, nan, nan, nan, nan, nan, nan, nan, nan, nan, nan, nan, nan, nan, nan, nan, nan, nan, nan, nan, nan, nan, nan, nan, nan, nan, nan, nan, nan, nan, nan, nan, nan, nan, nan, nan, nan, nan, nan, nan, nan, nan, nan, nan, nan, nan, nan, nan, nan, nan, nan, nan, nan, nan, nan, nan, nan, nan, nan, nan, nan, nan, nan, nan, nan, nan, nan, nan, nan}\n"
     ]
    }
   ],
   "source": [
    "print(set(df['Machine Capacity (L)']))"
   ]
  },
  {
   "cell_type": "markdown",
   "metadata": {},
   "source": [
    "# Xử lý dữ liệu trống (missing data)"
   ]
  },
  {
   "cell_type": "code",
   "execution_count": 162,
   "metadata": {},
   "outputs": [
    {
     "data": {
      "text/plain": [
       "Id                        0\n",
       "Year                      0\n",
       "New Or Old                0\n",
       "Name                      0\n",
       "Address                   0\n",
       "Production Origin         0\n",
       "Color                     0\n",
       "Fuel                      0\n",
       "Car Gearbox               0\n",
       "Used (kilomet)            0\n",
       "Price                     0\n",
       "Company                   0\n",
       "Fuel Type                 0\n",
       "Machine Capacity (L)    340\n",
       "dtype: int64"
      ]
     },
     "execution_count": 162,
     "metadata": {},
     "output_type": "execute_result"
    }
   ],
   "source": [
    "df.isnull().sum()"
   ]
  },
  {
   "cell_type": "markdown",
   "metadata": {},
   "source": [
    "Xử lý dữ liệu trống bằng phương pháp thay thế bằng giá trị ngẫu nhiên\n",
    "- Kỹ thuật này cũng giả định rằng dữ liệu trống hoàn toàn ngẫu nhiên\n",
    "- Thay thế dữ liệu trống bằng các giá trị ngẫu nhiên của cột tương ứng\n",
    "- Dùng hàm dropna() của đối tượng DataFrame để bỏ qua các NaN values"
   ]
  },
  {
   "cell_type": "code",
   "execution_count": 163,
   "metadata": {},
   "outputs": [
    {
     "data": {
      "text/plain": [
       "2415    3.0\n",
       "Name: Machine Capacity (L), dtype: float64"
      ]
     },
     "execution_count": 163,
     "metadata": {},
     "output_type": "execute_result"
    }
   ],
   "source": [
    "# xử lý các NaN trong cột Machine Capacity (L)\n",
    "df['Machine Capacity (L)'].isnull().sum()\n",
    "# lấy ngẫu nhiên từ cột Machine Capacity (L) một giá trị khác NaN,\n",
    "# kết quả sẽ ko lặp lại sau mỗi lần thực hiện lệnh\n",
    "df['Machine Capacity (L)'].dropna().sample()"
   ]
  },
  {
   "cell_type": "code",
   "execution_count": 164,
   "metadata": {},
   "outputs": [
    {
     "data": {
      "text/plain": [
       "1425    2.0\n",
       "1672    5.0\n",
       "3556    1.5\n",
       "2412    3.5\n",
       "2388    2.0\n",
       "       ... \n",
       "4126    2.2\n",
       "998     3.5\n",
       "3242    3.4\n",
       "3597    1.5\n",
       "525     2.5\n",
       "Name: Machine Capacity (L), Length: 340, dtype: float64"
      ]
     },
     "execution_count": 164,
     "metadata": {},
     "output_type": "execute_result"
    }
   ],
   "source": [
    "random_samples = df['Machine Capacity (L)'].dropna().sample(n=df['Machine Capacity (L)'].isnull()\n",
    ".sum(),random_state=0)\n",
    "random_samples"
   ]
  },
  {
   "cell_type": "markdown",
   "metadata": {},
   "source": [
    "Chỉ số của các hàng bị trống dữ liệu "
   ]
  },
  {
   "cell_type": "code",
   "execution_count": 165,
   "metadata": {},
   "outputs": [
    {
     "data": {
      "text/plain": [
       "Int64Index([   2,   16,   17,   25,   26,   57,   60,   79,   85,   86,\n",
       "            ...\n",
       "            4049, 4090, 4144, 4158, 4169, 4184, 4220, 4249, 4260, 4262],\n",
       "           dtype='int64', length=340)"
      ]
     },
     "execution_count": 165,
     "metadata": {},
     "output_type": "execute_result"
    }
   ],
   "source": [
    "df[df['Machine Capacity (L)'].isnull()].index"
   ]
  },
  {
   "cell_type": "markdown",
   "metadata": {},
   "source": [
    "Gán lại index cho series ngẫu nhiên vừa tạo"
   ]
  },
  {
   "cell_type": "code",
   "execution_count": 166,
   "metadata": {},
   "outputs": [],
   "source": [
    "random_samples.index = df[df['Machine Capacity (L)'].isnull()].index"
   ]
  },
  {
   "cell_type": "markdown",
   "metadata": {},
   "source": [
    "Thay thế dữ liệu trống bằng các giá trị ngẫu nhiên của cột"
   ]
  },
  {
   "cell_type": "code",
   "execution_count": 167,
   "metadata": {},
   "outputs": [
    {
     "data": {
      "text/html": [
       "<div>\n",
       "<style scoped>\n",
       "    .dataframe tbody tr th:only-of-type {\n",
       "        vertical-align: middle;\n",
       "    }\n",
       "\n",
       "    .dataframe tbody tr th {\n",
       "        vertical-align: top;\n",
       "    }\n",
       "\n",
       "    .dataframe thead th {\n",
       "        text-align: right;\n",
       "    }\n",
       "</style>\n",
       "<table border=\"1\" class=\"dataframe\">\n",
       "  <thead>\n",
       "    <tr style=\"text-align: right;\">\n",
       "      <th></th>\n",
       "      <th>Id</th>\n",
       "      <th>Year</th>\n",
       "      <th>New Or Old</th>\n",
       "      <th>Name</th>\n",
       "      <th>Address</th>\n",
       "      <th>Production Origin</th>\n",
       "      <th>Color</th>\n",
       "      <th>Fuel</th>\n",
       "      <th>Car Gearbox</th>\n",
       "      <th>Used (kilomet)</th>\n",
       "      <th>Price</th>\n",
       "      <th>Company</th>\n",
       "      <th>Fuel Type</th>\n",
       "      <th>Machine Capacity (L)</th>\n",
       "      <th>Machine Capacity (L) Random</th>\n",
       "    </tr>\n",
       "  </thead>\n",
       "  <tbody>\n",
       "    <tr>\n",
       "      <th>4274</th>\n",
       "      <td>4629930</td>\n",
       "      <td>2018</td>\n",
       "      <td>Xe cũ</td>\n",
       "      <td>Honda Jazz RS</td>\n",
       "      <td>Hà Nội</td>\n",
       "      <td>Xe nhập khẩu</td>\n",
       "      <td>màu đỏ</td>\n",
       "      <td>máy xăng 1.5 L</td>\n",
       "      <td>số tự động</td>\n",
       "      <td>60000</td>\n",
       "      <td>465 Triệu</td>\n",
       "      <td>Honda</td>\n",
       "      <td>máy xăng</td>\n",
       "      <td>1.5</td>\n",
       "      <td>1.5</td>\n",
       "    </tr>\n",
       "    <tr>\n",
       "      <th>4275</th>\n",
       "      <td>4625221</td>\n",
       "      <td>2021</td>\n",
       "      <td>Xe cũ</td>\n",
       "      <td>Peugeot 3008 AL</td>\n",
       "      <td>Hà Nội</td>\n",
       "      <td>Xe lắp ráp trong nước</td>\n",
       "      <td>màu trắng</td>\n",
       "      <td>máy xăng 1.6 L</td>\n",
       "      <td>số tự động</td>\n",
       "      <td>4000</td>\n",
       "      <td>1 Tỷ 79 Triệu</td>\n",
       "      <td>Peugeot</td>\n",
       "      <td>máy xăng</td>\n",
       "      <td>1.6</td>\n",
       "      <td>1.6</td>\n",
       "    </tr>\n",
       "    <tr>\n",
       "      <th>4276</th>\n",
       "      <td>4836923</td>\n",
       "      <td>2017</td>\n",
       "      <td>Xe cũ</td>\n",
       "      <td>Mitsubishi Triton 4x2 AT</td>\n",
       "      <td>Hà Nội</td>\n",
       "      <td>Xe nhập khẩu</td>\n",
       "      <td>màu xám</td>\n",
       "      <td>máy dầu 2.5 L</td>\n",
       "      <td>số tự động</td>\n",
       "      <td>190000</td>\n",
       "      <td>450 Triệu</td>\n",
       "      <td>Mitsubishi</td>\n",
       "      <td>máy dầu</td>\n",
       "      <td>2.5</td>\n",
       "      <td>2.5</td>\n",
       "    </tr>\n",
       "    <tr>\n",
       "      <th>4277</th>\n",
       "      <td>4710255</td>\n",
       "      <td>2011</td>\n",
       "      <td>Xe cũ</td>\n",
       "      <td>Toyota Camry LE 2.5</td>\n",
       "      <td>Hà Nội</td>\n",
       "      <td>Xe nhập khẩu</td>\n",
       "      <td>màu trắng</td>\n",
       "      <td>máy xăng 2.5 L</td>\n",
       "      <td>số tự động</td>\n",
       "      <td>90000</td>\n",
       "      <td>610 Triệu</td>\n",
       "      <td>Toyota</td>\n",
       "      <td>máy xăng</td>\n",
       "      <td>2.5</td>\n",
       "      <td>2.5</td>\n",
       "    </tr>\n",
       "    <tr>\n",
       "      <th>4278</th>\n",
       "      <td>4828308</td>\n",
       "      <td>2019</td>\n",
       "      <td>Xe cũ</td>\n",
       "      <td>Nissan Navara EL Premium R</td>\n",
       "      <td>Hà Nội</td>\n",
       "      <td>Xe nhập khẩu</td>\n",
       "      <td>màu xanh</td>\n",
       "      <td>máy dầu 2.5 L</td>\n",
       "      <td>số tự động</td>\n",
       "      <td>50000</td>\n",
       "      <td>540 Triệu</td>\n",
       "      <td>Nissan</td>\n",
       "      <td>máy dầu</td>\n",
       "      <td>2.5</td>\n",
       "      <td>2.5</td>\n",
       "    </tr>\n",
       "  </tbody>\n",
       "</table>\n",
       "</div>"
      ],
      "text/plain": [
       "           Id  Year New Or Old                        Name Address  \\\n",
       "4274  4629930  2018      Xe cũ               Honda Jazz RS  Hà Nội   \n",
       "4275  4625221  2021      Xe cũ             Peugeot 3008 AL  Hà Nội   \n",
       "4276  4836923  2017      Xe cũ    Mitsubishi Triton 4x2 AT  Hà Nội   \n",
       "4277  4710255  2011      Xe cũ         Toyota Camry LE 2.5  Hà Nội   \n",
       "4278  4828308  2019      Xe cũ  Nissan Navara EL Premium R  Hà Nội   \n",
       "\n",
       "          Production Origin      Color            Fuel Car Gearbox  \\\n",
       "4274           Xe nhập khẩu     màu đỏ  máy xăng 1.5 L  số tự động   \n",
       "4275  Xe lắp ráp trong nước  màu trắng  máy xăng 1.6 L  số tự động   \n",
       "4276           Xe nhập khẩu    màu xám   máy dầu 2.5 L  số tự động   \n",
       "4277           Xe nhập khẩu  màu trắng  máy xăng 2.5 L  số tự động   \n",
       "4278           Xe nhập khẩu   màu xanh   máy dầu 2.5 L  số tự động   \n",
       "\n",
       "      Used (kilomet)          Price     Company Fuel Type  \\\n",
       "4274           60000      465 Triệu       Honda  máy xăng   \n",
       "4275            4000  1 Tỷ 79 Triệu     Peugeot  máy xăng   \n",
       "4276          190000      450 Triệu  Mitsubishi   máy dầu   \n",
       "4277           90000      610 Triệu      Toyota  máy xăng   \n",
       "4278           50000      540 Triệu      Nissan   máy dầu   \n",
       "\n",
       "      Machine Capacity (L)  Machine Capacity (L) Random  \n",
       "4274                   1.5                          1.5  \n",
       "4275                   1.6                          1.6  \n",
       "4276                   2.5                          2.5  \n",
       "4277                   2.5                          2.5  \n",
       "4278                   2.5                          2.5  "
      ]
     },
     "execution_count": 167,
     "metadata": {},
     "output_type": "execute_result"
    }
   ],
   "source": [
    "df['Machine Capacity (L) Random']=df['Machine Capacity (L)']\n",
    "df.loc[df['Machine Capacity (L)'].isnull(), 'Machine Capacity (L) Random']=random_samples\n",
    "df.tail()"
   ]
  },
  {
   "cell_type": "markdown",
   "metadata": {},
   "source": [
    "Vẽ hàm mật độ xác suất của cột Machine Capacity (L) trước và sau khi điền"
   ]
  },
  {
   "cell_type": "code",
   "execution_count": 168,
   "metadata": {},
   "outputs": [
    {
     "data": {
      "text/plain": [
       "<matplotlib.legend.Legend at 0x132fdf13c10>"
      ]
     },
     "execution_count": 168,
     "metadata": {},
     "output_type": "execute_result"
    },
    {
     "data": {
      "image/png": "[encoded data removed]",
      "text/plain": [
       "<Figure size 640x480 with 1 Axes>"
      ]
     },
     "metadata": {},
     "output_type": "display_data"
    }
   ],
   "source": [
    "fig = plt.figure()\n",
    "ax = fig.add_subplot(111)\n",
    "df['Machine Capacity (L)'].plot(kind='kde', ax=ax, color='blue')\n",
    "df['Machine Capacity (L) Random'].plot(kind='kde', ax=ax, color='green')\n",
    "lines, labels = ax.get_legend_handles_labels()\n",
    "ax.legend(lines, labels, loc='best')"
   ]
  },
  {
   "cell_type": "markdown",
   "metadata": {},
   "source": [
    "Xóa các cột ban đầu mà không ảnh hưởng"
   ]
  },
  {
   "cell_type": "code",
   "execution_count": 169,
   "metadata": {},
   "outputs": [],
   "source": [
    "df.drop([\"Name\"],axis=1,inplace=True)\n",
    "df.drop([\"Id\"],axis=1,inplace=True)\n",
    "df.drop([\"Fuel\"],axis=1,inplace=True)\n",
    "df.drop([\"Machine Capacity (L)\"],axis=1,inplace=True)"
   ]
  },
  {
   "cell_type": "markdown",
   "metadata": {},
   "source": [
    "Chuyển cột 'Price' về cuối df"
   ]
  },
  {
   "cell_type": "markdown",
   "metadata": {},
   "source": [
    "Chuyển cột 'Price' về cuối df"
   ]
  },
  {
   "cell_type": "code",
   "execution_count": 170,
   "metadata": {},
   "outputs": [],
   "source": [
    "moving_column = df.pop('Price')\n",
    "df.insert(10,'Price',moving_column)"
   ]
  },
  {
   "cell_type": "code",
   "execution_count": 171,
   "metadata": {},
   "outputs": [
    {
     "data": {
      "text/html": [
       "<div>\n",
       "<style scoped>\n",
       "    .dataframe tbody tr th:only-of-type {\n",
       "        vertical-align: middle;\n",
       "    }\n",
       "\n",
       "    .dataframe tbody tr th {\n",
       "        vertical-align: top;\n",
       "    }\n",
       "\n",
       "    .dataframe thead th {\n",
       "        text-align: right;\n",
       "    }\n",
       "</style>\n",
       "<table border=\"1\" class=\"dataframe\">\n",
       "  <thead>\n",
       "    <tr style=\"text-align: right;\">\n",
       "      <th></th>\n",
       "      <th>Year</th>\n",
       "      <th>New Or Old</th>\n",
       "      <th>Address</th>\n",
       "      <th>Production Origin</th>\n",
       "      <th>Color</th>\n",
       "      <th>Car Gearbox</th>\n",
       "      <th>Used (kilomet)</th>\n",
       "      <th>Company</th>\n",
       "      <th>Fuel Type</th>\n",
       "      <th>Machine Capacity (L) Random</th>\n",
       "      <th>Price</th>\n",
       "    </tr>\n",
       "  </thead>\n",
       "  <tbody>\n",
       "    <tr>\n",
       "      <th>0</th>\n",
       "      <td>2015</td>\n",
       "      <td>Xe cũ</td>\n",
       "      <td>Hà Nội</td>\n",
       "      <td>Xe lắp ráp trong nước</td>\n",
       "      <td>màu đỏ</td>\n",
       "      <td>số tự động</td>\n",
       "      <td>60000</td>\n",
       "      <td>Mazda</td>\n",
       "      <td>máy xăng</td>\n",
       "      <td>2.5</td>\n",
       "      <td>520 Triệu</td>\n",
       "    </tr>\n",
       "    <tr>\n",
       "      <th>1</th>\n",
       "      <td>2019</td>\n",
       "      <td>Xe cũ</td>\n",
       "      <td>TP HCM</td>\n",
       "      <td>Xe lắp ráp trong nước</td>\n",
       "      <td>màu đỏ</td>\n",
       "      <td>số tự động</td>\n",
       "      <td>15000</td>\n",
       "      <td>Mercedes</td>\n",
       "      <td>máy xăng</td>\n",
       "      <td>3.0</td>\n",
       "      <td>3 Tỷ 299 Triệu</td>\n",
       "    </tr>\n",
       "    <tr>\n",
       "      <th>2</th>\n",
       "      <td>2022</td>\n",
       "      <td>Xe mới</td>\n",
       "      <td>TP HCM</td>\n",
       "      <td>Xe lắp ráp trong nước</td>\n",
       "      <td>màu cam</td>\n",
       "      <td>số tự động</td>\n",
       "      <td>0</td>\n",
       "      <td>VinFast</td>\n",
       "      <td>xe điện</td>\n",
       "      <td>2.0</td>\n",
       "      <td>887 Triệu</td>\n",
       "    </tr>\n",
       "    <tr>\n",
       "      <th>3</th>\n",
       "      <td>2018</td>\n",
       "      <td>Xe cũ</td>\n",
       "      <td>Đồng Tháp</td>\n",
       "      <td>Xe lắp ráp trong nước</td>\n",
       "      <td>màu trắng</td>\n",
       "      <td>số tự động</td>\n",
       "      <td>73000</td>\n",
       "      <td>Honda</td>\n",
       "      <td>máy xăng</td>\n",
       "      <td>1.5</td>\n",
       "      <td>418 Triệu</td>\n",
       "    </tr>\n",
       "    <tr>\n",
       "      <th>4</th>\n",
       "      <td>2006</td>\n",
       "      <td>Xe cũ</td>\n",
       "      <td>Đồng Tháp</td>\n",
       "      <td>Xe lắp ráp trong nước</td>\n",
       "      <td>màu bạc</td>\n",
       "      <td>số tay</td>\n",
       "      <td>138000</td>\n",
       "      <td>Ford</td>\n",
       "      <td>máy dầu</td>\n",
       "      <td>2.5</td>\n",
       "      <td>198 Triệu</td>\n",
       "    </tr>\n",
       "  </tbody>\n",
       "</table>\n",
       "</div>"
      ],
      "text/plain": [
       "   Year New Or Old    Address      Production Origin      Color Car Gearbox  \\\n",
       "0  2015      Xe cũ     Hà Nội  Xe lắp ráp trong nước     màu đỏ  số tự động   \n",
       "1  2019      Xe cũ     TP HCM  Xe lắp ráp trong nước     màu đỏ  số tự động   \n",
       "2  2022     Xe mới     TP HCM  Xe lắp ráp trong nước    màu cam  số tự động   \n",
       "3  2018      Xe cũ  Đồng Tháp  Xe lắp ráp trong nước  màu trắng  số tự động   \n",
       "4  2006      Xe cũ  Đồng Tháp  Xe lắp ráp trong nước    màu bạc      số tay   \n",
       "\n",
       "   Used (kilomet)   Company Fuel Type  Machine Capacity (L) Random  \\\n",
       "0           60000     Mazda  máy xăng                          2.5   \n",
       "1           15000  Mercedes  máy xăng                          3.0   \n",
       "2               0   VinFast   xe điện                          2.0   \n",
       "3           73000     Honda  máy xăng                          1.5   \n",
       "4          138000      Ford   máy dầu                          2.5   \n",
       "\n",
       "            Price  \n",
       "0       520 Triệu  \n",
       "1  3 Tỷ 299 Triệu  \n",
       "2       887 Triệu  \n",
       "3       418 Triệu  \n",
       "4       198 Triệu  "
      ]
     },
     "execution_count": 171,
     "metadata": {},
     "output_type": "execute_result"
    }
   ],
   "source": [
    "df.head()"
   ]
  },
  {
   "cell_type": "markdown",
   "metadata": {},
   "source": [
    "# Feature Engineering"
   ]
  },
  {
   "cell_type": "markdown",
   "metadata": {},
   "source": [
    "Encoding for 'Price' column"
   ]
  },
  {
   "cell_type": "code",
   "execution_count": 172,
   "metadata": {},
   "outputs": [],
   "source": [
    "for i in range (df.shape[0]):\n",
    "    result = 0.0\n",
    "    list_temp = df['Price'][i].split(' ')[:]\n",
    "\n",
    "    for j in range(len(list_temp)):\n",
    "        \n",
    "        if(list_temp[j] == 'Tỷ'): # 4 Tỷ 359 Triệu , 688 Triệu\t\n",
    "            base1 = 1000000000.0\n",
    "            temp_result = pd.to_numeric(list_temp[j-1], downcast='integer') * base1\n",
    "            result = result + temp_result\n",
    "        if (list_temp[j] == 'Triệu'):\n",
    "            base2 = 1000000.0\n",
    "            temp_result = pd.to_numeric(list_temp[j-1], downcast='integer') * base2\n",
    "            result = result + temp_result\n",
    "    \n",
    "    df.at[i, 'Price'] = result\n",
    "\n",
    "df['Price'] = pd.to_numeric(df['Price'], downcast='float')"
   ]
  },
  {
   "cell_type": "code",
   "execution_count": 173,
   "metadata": {},
   "outputs": [
    {
     "data": {
      "text/html": [
       "<div>\n",
       "<style scoped>\n",
       "    .dataframe tbody tr th:only-of-type {\n",
       "        vertical-align: middle;\n",
       "    }\n",
       "\n",
       "    .dataframe tbody tr th {\n",
       "        vertical-align: top;\n",
       "    }\n",
       "\n",
       "    .dataframe thead th {\n",
       "        text-align: right;\n",
       "    }\n",
       "</style>\n",
       "<table border=\"1\" class=\"dataframe\">\n",
       "  <thead>\n",
       "    <tr style=\"text-align: right;\">\n",
       "      <th></th>\n",
       "      <th>Year</th>\n",
       "      <th>New Or Old</th>\n",
       "      <th>Address</th>\n",
       "      <th>Production Origin</th>\n",
       "      <th>Color</th>\n",
       "      <th>Car Gearbox</th>\n",
       "      <th>Used (kilomet)</th>\n",
       "      <th>Company</th>\n",
       "      <th>Fuel Type</th>\n",
       "      <th>Machine Capacity (L) Random</th>\n",
       "      <th>Price</th>\n",
       "    </tr>\n",
       "  </thead>\n",
       "  <tbody>\n",
       "    <tr>\n",
       "      <th>0</th>\n",
       "      <td>2015</td>\n",
       "      <td>Xe cũ</td>\n",
       "      <td>Hà Nội</td>\n",
       "      <td>Xe lắp ráp trong nước</td>\n",
       "      <td>màu đỏ</td>\n",
       "      <td>số tự động</td>\n",
       "      <td>60000</td>\n",
       "      <td>Mazda</td>\n",
       "      <td>máy xăng</td>\n",
       "      <td>2.5</td>\n",
       "      <td>5.200000e+08</td>\n",
       "    </tr>\n",
       "    <tr>\n",
       "      <th>1</th>\n",
       "      <td>2019</td>\n",
       "      <td>Xe cũ</td>\n",
       "      <td>TP HCM</td>\n",
       "      <td>Xe lắp ráp trong nước</td>\n",
       "      <td>màu đỏ</td>\n",
       "      <td>số tự động</td>\n",
       "      <td>15000</td>\n",
       "      <td>Mercedes</td>\n",
       "      <td>máy xăng</td>\n",
       "      <td>3.0</td>\n",
       "      <td>3.299000e+09</td>\n",
       "    </tr>\n",
       "    <tr>\n",
       "      <th>2</th>\n",
       "      <td>2022</td>\n",
       "      <td>Xe mới</td>\n",
       "      <td>TP HCM</td>\n",
       "      <td>Xe lắp ráp trong nước</td>\n",
       "      <td>màu cam</td>\n",
       "      <td>số tự động</td>\n",
       "      <td>0</td>\n",
       "      <td>VinFast</td>\n",
       "      <td>xe điện</td>\n",
       "      <td>2.0</td>\n",
       "      <td>8.870000e+08</td>\n",
       "    </tr>\n",
       "    <tr>\n",
       "      <th>3</th>\n",
       "      <td>2018</td>\n",
       "      <td>Xe cũ</td>\n",
       "      <td>Đồng Tháp</td>\n",
       "      <td>Xe lắp ráp trong nước</td>\n",
       "      <td>màu trắng</td>\n",
       "      <td>số tự động</td>\n",
       "      <td>73000</td>\n",
       "      <td>Honda</td>\n",
       "      <td>máy xăng</td>\n",
       "      <td>1.5</td>\n",
       "      <td>4.180000e+08</td>\n",
       "    </tr>\n",
       "    <tr>\n",
       "      <th>4</th>\n",
       "      <td>2006</td>\n",
       "      <td>Xe cũ</td>\n",
       "      <td>Đồng Tháp</td>\n",
       "      <td>Xe lắp ráp trong nước</td>\n",
       "      <td>màu bạc</td>\n",
       "      <td>số tay</td>\n",
       "      <td>138000</td>\n",
       "      <td>Ford</td>\n",
       "      <td>máy dầu</td>\n",
       "      <td>2.5</td>\n",
       "      <td>1.980000e+08</td>\n",
       "    </tr>\n",
       "  </tbody>\n",
       "</table>\n",
       "</div>"
      ],
      "text/plain": [
       "   Year New Or Old    Address      Production Origin      Color Car Gearbox  \\\n",
       "0  2015      Xe cũ     Hà Nội  Xe lắp ráp trong nước     màu đỏ  số tự động   \n",
       "1  2019      Xe cũ     TP HCM  Xe lắp ráp trong nước     màu đỏ  số tự động   \n",
       "2  2022     Xe mới     TP HCM  Xe lắp ráp trong nước    màu cam  số tự động   \n",
       "3  2018      Xe cũ  Đồng Tháp  Xe lắp ráp trong nước  màu trắng  số tự động   \n",
       "4  2006      Xe cũ  Đồng Tháp  Xe lắp ráp trong nước    màu bạc      số tay   \n",
       "\n",
       "   Used (kilomet)   Company Fuel Type  Machine Capacity (L) Random  \\\n",
       "0           60000     Mazda  máy xăng                          2.5   \n",
       "1           15000  Mercedes  máy xăng                          3.0   \n",
       "2               0   VinFast   xe điện                          2.0   \n",
       "3           73000     Honda  máy xăng                          1.5   \n",
       "4          138000      Ford   máy dầu                          2.5   \n",
       "\n",
       "          Price  \n",
       "0  5.200000e+08  \n",
       "1  3.299000e+09  \n",
       "2  8.870000e+08  \n",
       "3  4.180000e+08  \n",
       "4  1.980000e+08  "
      ]
     },
     "execution_count": 173,
     "metadata": {},
     "output_type": "execute_result"
    }
   ],
   "source": [
    "df.head()"
   ]
  },
  {
   "cell_type": "markdown",
   "metadata": {},
   "source": [
    "Data Visualization"
   ]
  },
  {
   "cell_type": "markdown",
   "metadata": {},
   "source": [
    "Trực quan sự phân bố giá trị của cột 'Price'"
   ]
  },
  {
   "cell_type": "code",
   "execution_count": 174,
   "metadata": {},
   "outputs": [
    {
     "name": "stderr",
     "output_type": "stream",
     "text": [
      "C:\\Users\\dongu\\AppData\\Local\\Temp\\ipykernel_8072\\2121021245.py:2: UserWarning: \n",
      "\n",
      "`distplot` is a deprecated function and will be removed in seaborn v0.14.0.\n",
      "\n",
      "Please adapt your code to use either `displot` (a figure-level function with\n",
      "similar flexibility) or `histplot` (an axes-level function for histograms).\n",
      "\n",
      "For a guide to updating your code to use the new functions, please see\n",
      "https://gist.github.com/mwaskom/de44147ed2974457ad6372750bbe5751\n",
      "\n",
      "  sns.distplot(df['Price'])\n"
     ]
    },
    {
     "data": {
      "text/plain": [
       "(63000000.0, 41990000000.0)"
      ]
     },
     "execution_count": 174,
     "metadata": {},
     "output_type": "execute_result"
    },
    {
     "data": {
      "image/png": "[encoded data removed]",
      "text/plain": [
       "<Figure size 800x1000 with 1 Axes>"
      ]
     },
     "metadata": {},
     "output_type": "display_data"
    }
   ],
   "source": [
    "f, ax = plt.subplots(figsize=(8,10))\n",
    "sns.distplot(df['Price'])\n",
    "plt.xlim([6.300000e+07,4.199000e+10])"
   ]
  },
  {
   "cell_type": "markdown",
   "metadata": {},
   "source": [
    "# Year"
   ]
  },
  {
   "cell_type": "markdown",
   "metadata": {},
   "source": [
    "groupby giá trị của cột 'Price' theo 'Year' "
   ]
  },
  {
   "cell_type": "code",
   "execution_count": 175,
   "metadata": {},
   "outputs": [
    {
     "data": {
      "image/png": "[encoded data removed]",
      "text/plain": [
       "<Figure size 640x480 with 1 Axes>"
      ]
     },
     "metadata": {},
     "output_type": "display_data"
    }
   ],
   "source": [
    "sales_value = df.groupby('Year').sum()['Price']\n",
    "years = list(set(df['Year']))\n",
    "plt.bar(x=years, height=sales_value)\n",
    "plt.xticks(years, rotation= 60, size=8)\n",
    "plt.xlabel('Year')\n",
    "plt.ylabel('Sales in VND')\n",
    "plt.show()"
   ]
  },
  {
   "cell_type": "markdown",
   "metadata": {},
   "source": [
    "Điều ở trên chưa chính xác khi mà có thể có các loại xe có giá trị đắt đỏ. "
   ]
  },
  {
   "cell_type": "markdown",
   "metadata": {},
   "source": [
    "# New Or Old"
   ]
  },
  {
   "cell_type": "code",
   "execution_count": 176,
   "metadata": {},
   "outputs": [
    {
     "name": "stdout",
     "output_type": "stream",
     "text": [
      "{'Xe mới', 'Xe cũ', 'Xe cũ <'}\n"
     ]
    }
   ],
   "source": [
    "print(set(df['New Or Old']))"
   ]
  },
  {
   "cell_type": "code",
   "execution_count": 177,
   "metadata": {},
   "outputs": [
    {
     "name": "stderr",
     "output_type": "stream",
     "text": [
      "C:\\Users\\dongu\\AppData\\Local\\Temp\\ipykernel_8072\\3490621823.py:3: SettingWithCopyWarning: \n",
      "A value is trying to be set on a copy of a slice from a DataFrame\n",
      "\n",
      "See the caveats in the documentation: https://pandas.pydata.org/pandas-docs/stable/user_guide/indexing.html#returning-a-view-versus-a-copy\n",
      "  df['New Or Old'][i] = df['New Or Old'][i].replace('Xe cũ <', 'Xe cũ')\n"
     ]
    }
   ],
   "source": [
    "for i in range(df.shape[0]):\n",
    "    if(df['New Or Old'][i] == 'Xe cũ <'):\n",
    "        df['New Or Old'][i] = df['New Or Old'][i].replace('Xe cũ <', 'Xe cũ')"
   ]
  },
  {
   "cell_type": "code",
   "execution_count": 178,
   "metadata": {},
   "outputs": [
    {
     "data": {
      "image/png": "[encoded data removed]",
      "text/plain": [
       "<Figure size 640x480 with 1 Axes>"
      ]
     },
     "metadata": {},
     "output_type": "display_data"
    }
   ],
   "source": [
    "sales_value = df.groupby('New Or Old').sum()['Price']\n",
    "New_Or_Old = list(set(df['New Or Old']))\n",
    "plt.bar(x=New_Or_Old, height=sales_value,color=['g','b'])\n",
    "plt.xticks(New_Or_Old, rotation= 0, size=30)\n",
    "plt.xlabel('New Or Old')\n",
    "plt.ylabel('Sales in VND')\n",
    "plt.show()"
   ]
  },
  {
   "cell_type": "markdown",
   "metadata": {},
   "source": [
    "# Address"
   ]
  },
  {
   "cell_type": "code",
   "execution_count": 179,
   "metadata": {},
   "outputs": [
    {
     "data": {
      "text/plain": [
       "(array([ 0,  1,  2,  3,  4,  5,  6,  7,  8,  9, 10, 11, 12, 13, 14, 15, 16,\n",
       "        17, 18, 19, 20, 21, 22, 23, 24, 25, 26, 27, 28, 29, 30, 31, 32, 33,\n",
       "        34, 35, 36, 37, 38, 39, 40, 41, 42, 43, 44, 45, 46]),\n",
       " [Text(0, 0, 'Hà Nội'),\n",
       "  Text(1, 0, 'TP HCM'),\n",
       "  Text(2, 0, 'Đồng Tháp'),\n",
       "  Text(3, 0, 'Bà Rịa Vũng Tàu'),\n",
       "  Text(4, 0, 'Thái Bình'),\n",
       "  Text(5, 0, 'Phú Thọ'),\n",
       "  Text(6, 0, 'Hưng Yên'),\n",
       "  Text(7, 0, 'Thanh Hóa'),\n",
       "  Text(8, 0, 'Vĩnh Phúc'),\n",
       "  Text(9, 0, 'Quảng Ninh'),\n",
       "  Text(10, 0, 'Lâm Đồng'),\n",
       "  Text(11, 0, 'Thái Nguyên'),\n",
       "  Text(12, 0, 'Khánh Hòa'),\n",
       "  Text(13, 0, 'Hải Phòng'),\n",
       "  Text(14, 0, 'Bình Dương'),\n",
       "  Text(15, 0, 'Nghệ An'),\n",
       "  Text(16, 0, 'Nam Định'),\n",
       "  Text(17, 0, 'Đồng Nai'),\n",
       "  Text(18, 0, 'Ninh Bình'),\n",
       "  Text(19, 0, 'Hải Dương'),\n",
       "  Text(20, 0, 'Quảng Ngãi'),\n",
       "  Text(21, 0, 'Quảng Nam'),\n",
       "  Text(22, 0, 'Bắc Ninh'),\n",
       "  Text(23, 0, 'Hậu Giang'),\n",
       "  Text(24, 0, 'Long An'),\n",
       "  Text(25, 0, 'Cần Thơ'),\n",
       "  Text(26, 0, 'Sóc Trăng'),\n",
       "  Text(27, 0, 'Bình Định'),\n",
       "  Text(28, 0, 'Hà Nam'),\n",
       "  Text(29, 0, 'Đăk Lăk'),\n",
       "  Text(30, 0, 'Lào Cai'),\n",
       "  Text(31, 0, 'Bắc Giang'),\n",
       "  Text(32, 0, 'Gia Lai'),\n",
       "  Text(33, 0, 'Phú Yên'),\n",
       "  Text(34, 0, 'Tuyên Quang'),\n",
       "  Text(35, 0, 'Đà Nẵng'),\n",
       "  Text(36, 0, 'Hòa Bình'),\n",
       "  Text(37, 0, 'Lạng Sơn'),\n",
       "  Text(38, 0, 'Ninh Thuận'),\n",
       "  Text(39, 0, 'Tiền Giang'),\n",
       "  Text(40, 0, 'Bình Thuận'),\n",
       "  Text(41, 0, 'Hà Giang'),\n",
       "  Text(42, 0, 'Sơn La'),\n",
       "  Text(43, 0, 'Quảng Bình'),\n",
       "  Text(44, 0, 'Đăk Nông'),\n",
       "  Text(45, 0, 'An Giang'),\n",
       "  Text(46, 0, 'Hà Tĩnh')])"
      ]
     },
     "execution_count": 179,
     "metadata": {},
     "output_type": "execute_result"
    },
    {
     "data": {
      "text/plain": [
       "<Figure size 2000x1000 with 0 Axes>"
      ]
     },
     "metadata": {},
     "output_type": "display_data"
    },
    {
     "data": {
      "image/png": "[encoded data removed]",
      "text/plain": [
       "<Figure size 1600x800 with 1 Axes>"
      ]
     },
     "metadata": {},
     "output_type": "display_data"
    }
   ],
   "source": [
    "var = \"Address\"\n",
    "plt.figure(figsize=(20, 10))\n",
    "sns.catplot(x=var, kind=\"count\", palette=\"ch:.25\", height=8, aspect=2, data=df)\n",
    "plt.xticks(rotation=90)"
   ]
  },
  {
   "cell_type": "markdown",
   "metadata": {},
   "source": [
    "# Production Origin"
   ]
  },
  {
   "cell_type": "code",
   "execution_count": 180,
   "metadata": {},
   "outputs": [
    {
     "name": "stdout",
     "output_type": "stream",
     "text": [
      "{'Xe lắp ráp trong nước', 'Xe nhập khẩu'}\n"
     ]
    }
   ],
   "source": [
    "print(set(df['Production Origin']))"
   ]
  },
  {
   "cell_type": "code",
   "execution_count": 181,
   "metadata": {},
   "outputs": [
    {
     "data": {
      "image/png": "[encoded data removed]",
      "text/plain": [
       "<Figure size 640x480 with 1 Axes>"
      ]
     },
     "metadata": {},
     "output_type": "display_data"
    }
   ],
   "source": [
    "sales_value = df.groupby('Production Origin').sum()['Price']\n",
    "Production_Origin = list(set(df['Production Origin']))\n",
    "plt.bar(x=Production_Origin, height=sales_value,color=['g','b'])\n",
    "plt.xticks(Production_Origin, rotation= 0, size=10)\n",
    "plt.xlabel('Production Origin')\n",
    "plt.ylabel('Sales in VND')\n",
    "plt.show()"
   ]
  },
  {
   "cell_type": "markdown",
   "metadata": {},
   "source": [
    "# Color"
   ]
  },
  {
   "cell_type": "code",
   "execution_count": 182,
   "metadata": {},
   "outputs": [
    {
     "data": {
      "image/png": "[encoded data removed]",
      "text/plain": [
       "<Figure size 640x480 with 1 Axes>"
      ]
     },
     "metadata": {},
     "output_type": "display_data"
    }
   ],
   "source": [
    "sales_value = df.groupby('Color').sum()['Price']\n",
    "years = list(set(df['Color']))\n",
    "plt.bar(x=years, height=sales_value)\n",
    "plt.xticks(years, rotation= 65, size=12)\n",
    "plt.xlabel('Color')\n",
    "plt.ylabel('Sales in VND')\n",
    "plt.show()"
   ]
  },
  {
   "cell_type": "markdown",
   "metadata": {},
   "source": [
    "# Car Gearbox"
   ]
  },
  {
   "cell_type": "code",
   "execution_count": 183,
   "metadata": {},
   "outputs": [
    {
     "data": {
      "image/png": "[encoded data removed]",
      "text/plain": [
       "<Figure size 640x480 with 1 Axes>"
      ]
     },
     "metadata": {},
     "output_type": "display_data"
    }
   ],
   "source": [
    "sales_value = df.groupby('Car Gearbox').sum()['Price']\n",
    "Car_Gearbox = list(set(df['Car Gearbox']))\n",
    "plt.bar(x=Car_Gearbox, height=sales_value,color=['g','b'])\n",
    "plt.xticks(Car_Gearbox, rotation= 0, size=30)\n",
    "plt.xlabel('New Or Old')\n",
    "plt.ylabel('Sales in VND')\n",
    "plt.show()"
   ]
  },
  {
   "cell_type": "markdown",
   "metadata": {},
   "source": [
    "# Company"
   ]
  },
  {
   "cell_type": "code",
   "execution_count": 184,
   "metadata": {},
   "outputs": [
    {
     "data": {
      "image/png": "[encoded data removed]",
      "text/plain": [
       "<Figure size 640x480 with 1 Axes>"
      ]
     },
     "metadata": {},
     "output_type": "display_data"
    }
   ],
   "source": [
    "sales_value = df.groupby('Company').sum()['Price']\n",
    "Company = list(set(df['Company']))\n",
    "plt.bar(x=Company, height=sales_value)\n",
    "plt.xticks(Company, rotation= 65, size=6)\n",
    "plt.xlabel('Color')\n",
    "plt.ylabel('Sales in VND')\n",
    "plt.show()"
   ]
  },
  {
   "cell_type": "code",
   "execution_count": 185,
   "metadata": {},
   "outputs": [],
   "source": [
    "#Year\tNew Or Old\tAddress\tProduction Origin\tColor\tCar Gearbox\tUsed (kilomet)\tCompany\tFuel Type\tMachine Capacity (L) Random\tPrice"
   ]
  },
  {
   "cell_type": "code",
   "execution_count": 186,
   "metadata": {},
   "outputs": [
    {
     "data": {
      "text/plain": [
       "Text(0.5, 1.0, 'Giá bán tương ứng theo số kilomet đã chạy')"
      ]
     },
     "execution_count": 186,
     "metadata": {},
     "output_type": "execute_result"
    },
    {
     "data": {
      "image/png": "[encoded data removed]",
      "text/plain": [
       "<Figure size 1600x800 with 1 Axes>"
      ]
     },
     "metadata": {},
     "output_type": "display_data"
    }
   ],
   "source": [
    "\n",
    "x = df['Used (kilomet)'].values\n",
    "y = df['Price'].values\n",
    "\n",
    "plt.figure(figsize=(16, 8))\n",
    "plt.scatter(x, y, color='green', )\n",
    "plt.xlabel('Used (kilomet)', fontsize=16)\n",
    "plt.ylabel('Price (VND)', fontsize=16)\n",
    "plt.title(\"Giá bán tương ứng theo số kilomet đã chạy\", fontsize=18)"
   ]
  },
  {
   "cell_type": "markdown",
   "metadata": {},
   "source": [
    "Encoding for 'New or Old' column"
   ]
  },
  {
   "cell_type": "code",
   "execution_count": 187,
   "metadata": {},
   "outputs": [
    {
     "name": "stderr",
     "output_type": "stream",
     "text": [
      "C:\\Users\\dongu\\AppData\\Local\\Temp\\ipykernel_8072\\94067763.py:5: SettingWithCopyWarning: \n",
      "A value is trying to be set on a copy of a slice from a DataFrame\n",
      "\n",
      "See the caveats in the documentation: https://pandas.pydata.org/pandas-docs/stable/user_guide/indexing.html#returning-a-view-versus-a-copy\n",
      "  df['New Or Old'][i] = df['New Or Old'][i].replace('Xe cũ', '0')\n",
      "C:\\Users\\dongu\\AppData\\Local\\Temp\\ipykernel_8072\\94067763.py:7: SettingWithCopyWarning: \n",
      "A value is trying to be set on a copy of a slice from a DataFrame\n",
      "\n",
      "See the caveats in the documentation: https://pandas.pydata.org/pandas-docs/stable/user_guide/indexing.html#returning-a-view-versus-a-copy\n",
      "  df['New Or Old'][i] = df['New Or Old'][i].replace('Xe mới', '1')\n"
     ]
    },
    {
     "name": "stdout",
     "output_type": "stream",
     "text": [
      "{0, 1}\n"
     ]
    }
   ],
   "source": [
    "\n",
    "for i in range(df.shape[0]):\n",
    "    if(df['New Or Old'][i] == 'Xe cũ <'):\n",
    "        df['New Or Old'][i] = df['New Or Old'][i].replace('Xe cũ <', '0')\n",
    "    elif (df['New Or Old'][i] == 'Xe cũ'):\n",
    "        df['New Or Old'][i] = df['New Or Old'][i].replace('Xe cũ', '0')\n",
    "    elif (df['New Or Old'][i] == 'Xe mới'):\n",
    "        df['New Or Old'][i] = df['New Or Old'][i].replace('Xe mới', '1')\n",
    "\n",
    "df['New Or Old'] = pd.to_numeric(df['New Or Old'], downcast='integer')\n",
    "\n",
    "print(set(df['New Or Old']))\n"
   ]
  },
  {
   "cell_type": "markdown",
   "metadata": {},
   "source": [
    "Encoding for Production Origin column"
   ]
  },
  {
   "cell_type": "code",
   "execution_count": 188,
   "metadata": {},
   "outputs": [
    {
     "name": "stdout",
     "output_type": "stream",
     "text": [
      "{'Xe lắp ráp trong nước', 'Xe nhập khẩu'}\n"
     ]
    }
   ],
   "source": [
    "print(set(df['Production Origin']))"
   ]
  },
  {
   "cell_type": "code",
   "execution_count": 189,
   "metadata": {},
   "outputs": [
    {
     "name": "stderr",
     "output_type": "stream",
     "text": [
      "C:\\Users\\dongu\\AppData\\Local\\Temp\\ipykernel_8072\\1046299793.py:5: SettingWithCopyWarning: \n",
      "A value is trying to be set on a copy of a slice from a DataFrame\n",
      "\n",
      "See the caveats in the documentation: https://pandas.pydata.org/pandas-docs/stable/user_guide/indexing.html#returning-a-view-versus-a-copy\n",
      "  df['Production Origin'][i] = df['Production Origin'][i].replace('Xe lắp ráp trong nước', '1')\n",
      "C:\\Users\\dongu\\AppData\\Local\\Temp\\ipykernel_8072\\1046299793.py:3: SettingWithCopyWarning: \n",
      "A value is trying to be set on a copy of a slice from a DataFrame\n",
      "\n",
      "See the caveats in the documentation: https://pandas.pydata.org/pandas-docs/stable/user_guide/indexing.html#returning-a-view-versus-a-copy\n",
      "  df['Production Origin'][i] = df['Production Origin'][i].replace('Xe nhập khẩu', '0')\n"
     ]
    },
    {
     "name": "stdout",
     "output_type": "stream",
     "text": [
      "{0, 1}\n"
     ]
    }
   ],
   "source": [
    "for i in range(df.shape[0]):\n",
    "    if(df['Production Origin'][i] == 'Xe nhập khẩu'):\n",
    "        df['Production Origin'][i] = df['Production Origin'][i].replace('Xe nhập khẩu', '0')\n",
    "    elif (df['Production Origin'][i] == 'Xe lắp ráp trong nước'):\n",
    "        df['Production Origin'][i] = df['Production Origin'][i].replace('Xe lắp ráp trong nước', '1')\n",
    "\n",
    "df['Production Origin'] = pd.to_numeric(df['Production Origin'], downcast='integer')\n",
    "\n",
    "print(set(df['Production Origin']))"
   ]
  },
  {
   "cell_type": "markdown",
   "metadata": {},
   "source": [
    "Encoding for Car Gearbox column"
   ]
  },
  {
   "cell_type": "code",
   "execution_count": 190,
   "metadata": {},
   "outputs": [
    {
     "name": "stdout",
     "output_type": "stream",
     "text": [
      "{'số tay', 'số tự động'}\n"
     ]
    }
   ],
   "source": [
    "print(set(df['Car Gearbox']))"
   ]
  },
  {
   "cell_type": "code",
   "execution_count": 191,
   "metadata": {},
   "outputs": [
    {
     "name": "stderr",
     "output_type": "stream",
     "text": [
      "C:\\Users\\dongu\\AppData\\Local\\Temp\\ipykernel_8072\\1429376623.py:3: SettingWithCopyWarning: \n",
      "A value is trying to be set on a copy of a slice from a DataFrame\n",
      "\n",
      "See the caveats in the documentation: https://pandas.pydata.org/pandas-docs/stable/user_guide/indexing.html#returning-a-view-versus-a-copy\n",
      "  df['Car Gearbox'][i] = df['Car Gearbox'][i].replace('số tự động', '1')\n",
      "C:\\Users\\dongu\\AppData\\Local\\Temp\\ipykernel_8072\\1429376623.py:5: SettingWithCopyWarning: \n",
      "A value is trying to be set on a copy of a slice from a DataFrame\n",
      "\n",
      "See the caveats in the documentation: https://pandas.pydata.org/pandas-docs/stable/user_guide/indexing.html#returning-a-view-versus-a-copy\n",
      "  df['Car Gearbox'][i] = df['Car Gearbox'][i].replace('số tay', '0')\n"
     ]
    },
    {
     "name": "stdout",
     "output_type": "stream",
     "text": [
      "{0, 1}\n"
     ]
    }
   ],
   "source": [
    "for i in range(df.shape[0]):\n",
    "    if(df['Car Gearbox'][i] == 'số tự động'):\n",
    "        df['Car Gearbox'][i] = df['Car Gearbox'][i].replace('số tự động', '1')\n",
    "    elif (df['Car Gearbox'][i] == 'số tay'):\n",
    "        df['Car Gearbox'][i] = df['Car Gearbox'][i].replace('số tay', '0')\n",
    "\n",
    "df['Car Gearbox'] = pd.to_numeric(df['Car Gearbox'], downcast='integer')\n",
    "\n",
    "print(set(df['Car Gearbox']))"
   ]
  },
  {
   "cell_type": "code",
   "execution_count": 192,
   "metadata": {},
   "outputs": [
    {
     "data": {
      "text/html": [
       "<div>\n",
       "<style scoped>\n",
       "    .dataframe tbody tr th:only-of-type {\n",
       "        vertical-align: middle;\n",
       "    }\n",
       "\n",
       "    .dataframe tbody tr th {\n",
       "        vertical-align: top;\n",
       "    }\n",
       "\n",
       "    .dataframe thead th {\n",
       "        text-align: right;\n",
       "    }\n",
       "</style>\n",
       "<table border=\"1\" class=\"dataframe\">\n",
       "  <thead>\n",
       "    <tr style=\"text-align: right;\">\n",
       "      <th></th>\n",
       "      <th>Year</th>\n",
       "      <th>New Or Old</th>\n",
       "      <th>Address</th>\n",
       "      <th>Production Origin</th>\n",
       "      <th>Color</th>\n",
       "      <th>Car Gearbox</th>\n",
       "      <th>Used (kilomet)</th>\n",
       "      <th>Company</th>\n",
       "      <th>Fuel Type</th>\n",
       "      <th>Machine Capacity (L) Random</th>\n",
       "      <th>Price</th>\n",
       "    </tr>\n",
       "  </thead>\n",
       "  <tbody>\n",
       "    <tr>\n",
       "      <th>0</th>\n",
       "      <td>2015</td>\n",
       "      <td>0</td>\n",
       "      <td>Hà Nội</td>\n",
       "      <td>1</td>\n",
       "      <td>màu đỏ</td>\n",
       "      <td>1</td>\n",
       "      <td>60000</td>\n",
       "      <td>Mazda</td>\n",
       "      <td>máy xăng</td>\n",
       "      <td>2.5</td>\n",
       "      <td>5.200000e+08</td>\n",
       "    </tr>\n",
       "    <tr>\n",
       "      <th>1</th>\n",
       "      <td>2019</td>\n",
       "      <td>0</td>\n",
       "      <td>TP HCM</td>\n",
       "      <td>1</td>\n",
       "      <td>màu đỏ</td>\n",
       "      <td>1</td>\n",
       "      <td>15000</td>\n",
       "      <td>Mercedes</td>\n",
       "      <td>máy xăng</td>\n",
       "      <td>3.0</td>\n",
       "      <td>3.299000e+09</td>\n",
       "    </tr>\n",
       "    <tr>\n",
       "      <th>2</th>\n",
       "      <td>2022</td>\n",
       "      <td>1</td>\n",
       "      <td>TP HCM</td>\n",
       "      <td>1</td>\n",
       "      <td>màu cam</td>\n",
       "      <td>1</td>\n",
       "      <td>0</td>\n",
       "      <td>VinFast</td>\n",
       "      <td>xe điện</td>\n",
       "      <td>2.0</td>\n",
       "      <td>8.870000e+08</td>\n",
       "    </tr>\n",
       "    <tr>\n",
       "      <th>3</th>\n",
       "      <td>2018</td>\n",
       "      <td>0</td>\n",
       "      <td>Đồng Tháp</td>\n",
       "      <td>1</td>\n",
       "      <td>màu trắng</td>\n",
       "      <td>1</td>\n",
       "      <td>73000</td>\n",
       "      <td>Honda</td>\n",
       "      <td>máy xăng</td>\n",
       "      <td>1.5</td>\n",
       "      <td>4.180000e+08</td>\n",
       "    </tr>\n",
       "    <tr>\n",
       "      <th>4</th>\n",
       "      <td>2006</td>\n",
       "      <td>0</td>\n",
       "      <td>Đồng Tháp</td>\n",
       "      <td>1</td>\n",
       "      <td>màu bạc</td>\n",
       "      <td>0</td>\n",
       "      <td>138000</td>\n",
       "      <td>Ford</td>\n",
       "      <td>máy dầu</td>\n",
       "      <td>2.5</td>\n",
       "      <td>1.980000e+08</td>\n",
       "    </tr>\n",
       "  </tbody>\n",
       "</table>\n",
       "</div>"
      ],
      "text/plain": [
       "   Year  New Or Old    Address  Production Origin      Color  Car Gearbox  \\\n",
       "0  2015           0     Hà Nội                  1     màu đỏ            1   \n",
       "1  2019           0     TP HCM                  1     màu đỏ            1   \n",
       "2  2022           1     TP HCM                  1    màu cam            1   \n",
       "3  2018           0  Đồng Tháp                  1  màu trắng            1   \n",
       "4  2006           0  Đồng Tháp                  1    màu bạc            0   \n",
       "\n",
       "   Used (kilomet)   Company Fuel Type  Machine Capacity (L) Random  \\\n",
       "0           60000     Mazda  máy xăng                          2.5   \n",
       "1           15000  Mercedes  máy xăng                          3.0   \n",
       "2               0   VinFast   xe điện                          2.0   \n",
       "3           73000     Honda  máy xăng                          1.5   \n",
       "4          138000      Ford   máy dầu                          2.5   \n",
       "\n",
       "          Price  \n",
       "0  5.200000e+08  \n",
       "1  3.299000e+09  \n",
       "2  8.870000e+08  \n",
       "3  4.180000e+08  \n",
       "4  1.980000e+08  "
      ]
     },
     "execution_count": 192,
     "metadata": {},
     "output_type": "execute_result"
    }
   ],
   "source": [
    "df.head()"
   ]
  },
  {
   "cell_type": "markdown",
   "metadata": {},
   "source": [
    "Encoding for Fuel Type column"
   ]
  },
  {
   "cell_type": "code",
   "execution_count": 193,
   "metadata": {},
   "outputs": [
    {
     "name": "stdout",
     "output_type": "stream",
     "text": [
      "{'xe hybrid', 'máy dầu', 'máy xăng', 'xe điện'}\n"
     ]
    }
   ],
   "source": [
    "print(set(df['Fuel Type']))"
   ]
  },
  {
   "cell_type": "code",
   "execution_count": 194,
   "metadata": {},
   "outputs": [
    {
     "data": {
      "text/html": [
       "<div>\n",
       "<style scoped>\n",
       "    .dataframe tbody tr th:only-of-type {\n",
       "        vertical-align: middle;\n",
       "    }\n",
       "\n",
       "    .dataframe tbody tr th {\n",
       "        vertical-align: top;\n",
       "    }\n",
       "\n",
       "    .dataframe thead th {\n",
       "        text-align: right;\n",
       "    }\n",
       "</style>\n",
       "<table border=\"1\" class=\"dataframe\">\n",
       "  <thead>\n",
       "    <tr style=\"text-align: right;\">\n",
       "      <th></th>\n",
       "      <th>Year</th>\n",
       "      <th>New Or Old</th>\n",
       "      <th>Production Origin</th>\n",
       "      <th>Car Gearbox</th>\n",
       "      <th>Used (kilomet)</th>\n",
       "      <th>Machine Capacity (L) Random</th>\n",
       "      <th>Price</th>\n",
       "    </tr>\n",
       "  </thead>\n",
       "  <tbody>\n",
       "    <tr>\n",
       "      <th>count</th>\n",
       "      <td>4279.000000</td>\n",
       "      <td>4279.000000</td>\n",
       "      <td>4279.000000</td>\n",
       "      <td>4279.000000</td>\n",
       "      <td>4.279000e+03</td>\n",
       "      <td>4279.000000</td>\n",
       "      <td>4.279000e+03</td>\n",
       "    </tr>\n",
       "    <tr>\n",
       "      <th>mean</th>\n",
       "      <td>2019.004440</td>\n",
       "      <td>0.348212</td>\n",
       "      <td>0.546623</td>\n",
       "      <td>0.906287</td>\n",
       "      <td>5.054223e+04</td>\n",
       "      <td>2.141762</td>\n",
       "      <td>1.442031e+09</td>\n",
       "    </tr>\n",
       "    <tr>\n",
       "      <th>std</th>\n",
       "      <td>4.104266</td>\n",
       "      <td>0.476459</td>\n",
       "      <td>0.497880</td>\n",
       "      <td>0.291464</td>\n",
       "      <td>8.163900e+05</td>\n",
       "      <td>0.831144</td>\n",
       "      <td>2.312841e+09</td>\n",
       "    </tr>\n",
       "    <tr>\n",
       "      <th>min</th>\n",
       "      <td>1990.000000</td>\n",
       "      <td>0.000000</td>\n",
       "      <td>0.000000</td>\n",
       "      <td>0.000000</td>\n",
       "      <td>0.000000e+00</td>\n",
       "      <td>0.800000</td>\n",
       "      <td>6.700000e+07</td>\n",
       "    </tr>\n",
       "    <tr>\n",
       "      <th>25%</th>\n",
       "      <td>2017.000000</td>\n",
       "      <td>0.000000</td>\n",
       "      <td>0.000000</td>\n",
       "      <td>1.000000</td>\n",
       "      <td>0.000000e+00</td>\n",
       "      <td>1.500000</td>\n",
       "      <td>5.500000e+08</td>\n",
       "    </tr>\n",
       "    <tr>\n",
       "      <th>50%</th>\n",
       "      <td>2020.000000</td>\n",
       "      <td>0.000000</td>\n",
       "      <td>1.000000</td>\n",
       "      <td>1.000000</td>\n",
       "      <td>2.000000e+04</td>\n",
       "      <td>2.000000</td>\n",
       "      <td>7.900000e+08</td>\n",
       "    </tr>\n",
       "    <tr>\n",
       "      <th>75%</th>\n",
       "      <td>2022.000000</td>\n",
       "      <td>1.000000</td>\n",
       "      <td>1.000000</td>\n",
       "      <td>1.000000</td>\n",
       "      <td>5.500000e+04</td>\n",
       "      <td>2.400000</td>\n",
       "      <td>1.288000e+09</td>\n",
       "    </tr>\n",
       "    <tr>\n",
       "      <th>max</th>\n",
       "      <td>2023.000000</td>\n",
       "      <td>1.000000</td>\n",
       "      <td>1.000000</td>\n",
       "      <td>1.000000</td>\n",
       "      <td>5.000000e+07</td>\n",
       "      <td>12.300000</td>\n",
       "      <td>4.600000e+10</td>\n",
       "    </tr>\n",
       "  </tbody>\n",
       "</table>\n",
       "</div>"
      ],
      "text/plain": [
       "              Year   New Or Old  Production Origin  Car Gearbox  \\\n",
       "count  4279.000000  4279.000000        4279.000000  4279.000000   \n",
       "mean   2019.004440     0.348212           0.546623     0.906287   \n",
       "std       4.104266     0.476459           0.497880     0.291464   \n",
       "min    1990.000000     0.000000           0.000000     0.000000   \n",
       "25%    2017.000000     0.000000           0.000000     1.000000   \n",
       "50%    2020.000000     0.000000           1.000000     1.000000   \n",
       "75%    2022.000000     1.000000           1.000000     1.000000   \n",
       "max    2023.000000     1.000000           1.000000     1.000000   \n",
       "\n",
       "       Used (kilomet)  Machine Capacity (L) Random         Price  \n",
       "count    4.279000e+03                  4279.000000  4.279000e+03  \n",
       "mean     5.054223e+04                     2.141762  1.442031e+09  \n",
       "std      8.163900e+05                     0.831144  2.312841e+09  \n",
       "min      0.000000e+00                     0.800000  6.700000e+07  \n",
       "25%      0.000000e+00                     1.500000  5.500000e+08  \n",
       "50%      2.000000e+04                     2.000000  7.900000e+08  \n",
       "75%      5.500000e+04                     2.400000  1.288000e+09  \n",
       "max      5.000000e+07                    12.300000  4.600000e+10  "
      ]
     },
     "execution_count": 194,
     "metadata": {},
     "output_type": "execute_result"
    }
   ],
   "source": [
    "df.describe()"
   ]
  },
  {
   "attachments": {},
   "cell_type": "markdown",
   "metadata": {},
   "source": [
    "# Làm thêm nha chứ chưa đủ, bản đủ lạc mất rồi :))"
   ]
  }
 ],
 "metadata": {
  "kernelspec": {
   "display_name": "Python 3",
   "language": "python",
   "name": "python3"
  },
  "language_info": {
   "codemirror_mode": {
    "name": "ipython",
    "version": 3
   },
   "file_extension": ".py",
   "mimetype": "text/x-python",
   "name": "python",
   "nbconvert_exporter": "python",
   "pygments_lexer": "ipython3",
   "version": "3.10.10"
  },
  "orig_nbformat": 4,
  "vscode": {
   "interpreter": {
    "hash": "0125d5357b123002b69153a69e612b6ce70ea37fdc6bfc608e10685057e3b587"
   }
  }
 },
 "nbformat": 4,
 "nbformat_minor": 2
}
